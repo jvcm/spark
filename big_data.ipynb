{
 "cells": [
  {
   "cell_type": "code",
   "execution_count": 1,
   "metadata": {},
   "outputs": [
    {
     "data": {
      "text/html": [
       "\n",
       "        <div>\n",
       "            <p><b>SparkContext</b></p>\n",
       "\n",
       "            <p><a href=\"http://172.20.6.3:4040\">Spark UI</a></p>\n",
       "\n",
       "            <dl>\n",
       "              <dt>Version</dt>\n",
       "                <dd><code>v2.4.0</code></dd>\n",
       "              <dt>Master</dt>\n",
       "                <dd><code>local[2]</code></dd>\n",
       "              <dt>AppName</dt>\n",
       "                <dd><code>PySparkShell</code></dd>\n",
       "            </dl>\n",
       "        </div>\n",
       "        "
      ],
      "text/plain": [
       "<SparkContext master=local[2] appName=PySparkShell>"
      ]
     },
     "execution_count": 1,
     "metadata": {},
     "output_type": "execute_result"
    }
   ],
   "source": [
    "sc"
   ]
  },
  {
   "cell_type": "code",
   "execution_count": 2,
   "metadata": {},
   "outputs": [
    {
     "name": "stdout",
     "output_type": "stream",
     "text": [
      "<pyspark.sql.context.SQLContext object at 0x7f682fcacb38>\n"
     ]
    }
   ],
   "source": [
    "print(sqlContext)"
   ]
  },
  {
   "cell_type": "markdown",
   "metadata": {},
   "source": [
    "# List comprehension"
   ]
  },
  {
   "cell_type": "code",
   "execution_count": 3,
   "metadata": {},
   "outputs": [],
   "source": [
    "lista = [1,2,3,4,5]"
   ]
  },
  {
   "cell_type": "code",
   "execution_count": 4,
   "metadata": {},
   "outputs": [
    {
     "data": {
      "text/plain": [
       "[1, 4, 9, 16, 25]"
      ]
     },
     "execution_count": 4,
     "metadata": {},
     "output_type": "execute_result"
    }
   ],
   "source": [
    "[i**2 for i in lista]"
   ]
  },
  {
   "cell_type": "code",
   "execution_count": 5,
   "metadata": {},
   "outputs": [],
   "source": [
    "poems = ['Não sou nada.',\n",
    "'Nunca serei nada.',\n",
    "'Não posso querer ser nada.',\n",
    "'À parte isso, tenho em mim todos os sonhos do mundo.',\n",
    "'Janelas do meu quarto,',\n",
    "'Do meu quarto de um dos milhões do mundo.',\n",
    "'que ninguém sabe quem é',\n",
    "'( E se soubessem quem é, o que saberiam?),',\n",
    "'Dais para o mistério de uma rua cruzada constantemente por gente,',\n",
    "'Para uma rua inacessível a todos os pensamentos,',\n",
    "'Real, impossivelmente real, certa, desconhecidamente certa,',\n",
    "'Com o mistério das coisas por baixo das pedras e dos seres,',\n",
    "'Com a morte a por umidade nas paredes',\n",
    "'e cabelos brancos nos homens,',\n",
    "'Com o Destino a conduzir a carroça de tudo pela estrada de nada.']"
   ]
  },
  {
   "cell_type": "code",
   "execution_count": 6,
   "metadata": {},
   "outputs": [
    {
     "data": {
      "text/plain": [
       "['Não sou nada.',\n",
       " 'Nunca serei nada.',\n",
       " 'Não posso querer ser nada.',\n",
       " 'Com o Destino a conduzir a carroça de tudo pela estrada de nada.']"
      ]
     },
     "execution_count": 6,
     "metadata": {},
     "output_type": "execute_result"
    }
   ],
   "source": [
    "[item for item in poems if item.count('nada') >= 1]"
   ]
  },
  {
   "cell_type": "code",
   "execution_count": 7,
   "metadata": {},
   "outputs": [],
   "source": [
    "number = ['1', '2', '3', '4', '5', '6']"
   ]
  },
  {
   "cell_type": "code",
   "execution_count": 8,
   "metadata": {},
   "outputs": [
    {
     "data": {
      "text/plain": [
       "[3.0, 4.0, 5.0, 6.0]"
      ]
     },
     "execution_count": 8,
     "metadata": {},
     "output_type": "execute_result"
    }
   ],
   "source": [
    "[float(item) for item in number if item >= '3']"
   ]
  },
  {
   "cell_type": "markdown",
   "metadata": {},
   "source": [
    "# Map"
   ]
  },
  {
   "cell_type": "markdown",
   "metadata": {},
   "source": [
    "Aplicar uma função a cada elemento de uma lista. Retorna um objeto iterável que pode ser convertido em lista. A ideia é basicamente mapear cada elemento de uma lista de forma rápida e sem iteração."
   ]
  },
  {
   "cell_type": "code",
   "execution_count": 9,
   "metadata": {},
   "outputs": [],
   "source": [
    "float_list = map(float, range(10))"
   ]
  },
  {
   "cell_type": "code",
   "execution_count": 10,
   "metadata": {},
   "outputs": [
    {
     "name": "stdout",
     "output_type": "stream",
     "text": [
      "[0.0, 1.0, 2.0, 3.0, 4.0, 5.0, 6.0, 7.0, 8.0, 9.0]\n"
     ]
    }
   ],
   "source": [
    "print(list(float_list))"
   ]
  },
  {
   "cell_type": "markdown",
   "metadata": {},
   "source": [
    "Imprimir os números pares de 0 a 1000, convertendo para float."
   ]
  },
  {
   "cell_type": "code",
   "execution_count": 11,
   "metadata": {},
   "outputs": [],
   "source": [
    "numb = map(float, range(0,500,2))"
   ]
  },
  {
   "cell_type": "code",
   "execution_count": 12,
   "metadata": {},
   "outputs": [
    {
     "name": "stdout",
     "output_type": "stream",
     "text": [
      "[0.0, 2.0, 4.0, 6.0, 8.0, 10.0, 12.0, 14.0, 16.0, 18.0, 20.0, 22.0, 24.0, 26.0, 28.0, 30.0, 32.0, 34.0, 36.0, 38.0, 40.0, 42.0, 44.0, 46.0, 48.0, 50.0, 52.0, 54.0, 56.0, 58.0, 60.0, 62.0, 64.0, 66.0, 68.0, 70.0, 72.0, 74.0, 76.0, 78.0, 80.0, 82.0, 84.0, 86.0, 88.0, 90.0, 92.0, 94.0, 96.0, 98.0, 100.0, 102.0, 104.0, 106.0, 108.0, 110.0, 112.0, 114.0, 116.0, 118.0, 120.0, 122.0, 124.0, 126.0, 128.0, 130.0, 132.0, 134.0, 136.0, 138.0, 140.0, 142.0, 144.0, 146.0, 148.0, 150.0, 152.0, 154.0, 156.0, 158.0, 160.0, 162.0, 164.0, 166.0, 168.0, 170.0, 172.0, 174.0, 176.0, 178.0, 180.0, 182.0, 184.0, 186.0, 188.0, 190.0, 192.0, 194.0, 196.0, 198.0, 200.0, 202.0, 204.0, 206.0, 208.0, 210.0, 212.0, 214.0, 216.0, 218.0, 220.0, 222.0, 224.0, 226.0, 228.0, 230.0, 232.0, 234.0, 236.0, 238.0, 240.0, 242.0, 244.0, 246.0, 248.0, 250.0, 252.0, 254.0, 256.0, 258.0, 260.0, 262.0, 264.0, 266.0, 268.0, 270.0, 272.0, 274.0, 276.0, 278.0, 280.0, 282.0, 284.0, 286.0, 288.0, 290.0, 292.0, 294.0, 296.0, 298.0, 300.0, 302.0, 304.0, 306.0, 308.0, 310.0, 312.0, 314.0, 316.0, 318.0, 320.0, 322.0, 324.0, 326.0, 328.0, 330.0, 332.0, 334.0, 336.0, 338.0, 340.0, 342.0, 344.0, 346.0, 348.0, 350.0, 352.0, 354.0, 356.0, 358.0, 360.0, 362.0, 364.0, 366.0, 368.0, 370.0, 372.0, 374.0, 376.0, 378.0, 380.0, 382.0, 384.0, 386.0, 388.0, 390.0, 392.0, 394.0, 396.0, 398.0, 400.0, 402.0, 404.0, 406.0, 408.0, 410.0, 412.0, 414.0, 416.0, 418.0, 420.0, 422.0, 424.0, 426.0, 428.0, 430.0, 432.0, 434.0, 436.0, 438.0, 440.0, 442.0, 444.0, 446.0, 448.0, 450.0, 452.0, 454.0, 456.0, 458.0, 460.0, 462.0, 464.0, 466.0, 468.0, 470.0, 472.0, 474.0, 476.0, 478.0, 480.0, 482.0, 484.0, 486.0, 488.0, 490.0, 492.0, 494.0, 496.0, 498.0]\n"
     ]
    }
   ],
   "source": [
    "print(list(numb))"
   ]
  },
  {
   "cell_type": "markdown",
   "metadata": {},
   "source": [
    "Retorna uma lista de booleanos que verifica se na frase há ou não uma palavra específica."
   ]
  },
  {
   "cell_type": "code",
   "execution_count": 13,
   "metadata": {},
   "outputs": [],
   "source": [
    "words_map = map(lambda item: item.count('nada') > 0, poems)"
   ]
  },
  {
   "cell_type": "code",
   "execution_count": 14,
   "metadata": {},
   "outputs": [
    {
     "name": "stdout",
     "output_type": "stream",
     "text": [
      "[True, True, True, False, False, False, False, False, False, False, False, False, False, False, True]\n"
     ]
    }
   ],
   "source": [
    "print(list(words_map))"
   ]
  },
  {
   "cell_type": "markdown",
   "metadata": {},
   "source": [
    "# Filter"
   ]
  },
  {
   "cell_type": "markdown",
   "metadata": {},
   "source": [
    "Aplicar a uma lista de elementos, retornando os valores que satisfazem a condição do filtro."
   ]
  },
  {
   "cell_type": "code",
   "execution_count": 15,
   "metadata": {},
   "outputs": [],
   "source": [
    "num = [1,2,3,4,4,5,6,7,6,6,9,10,0]"
   ]
  },
  {
   "cell_type": "code",
   "execution_count": 16,
   "metadata": {},
   "outputs": [],
   "source": [
    "pares = filter(lambda x: x%3 == 0, num)"
   ]
  },
  {
   "cell_type": "code",
   "execution_count": 17,
   "metadata": {},
   "outputs": [
    {
     "name": "stdout",
     "output_type": "stream",
     "text": [
      "[3, 6, 6, 6, 9, 0]\n"
     ]
    }
   ],
   "source": [
    "print(list(pares))"
   ]
  },
  {
   "cell_type": "markdown",
   "metadata": {},
   "source": [
    "Busca frases que contém palavras específicas utilizando o filter."
   ]
  },
  {
   "cell_type": "code",
   "execution_count": 18,
   "metadata": {},
   "outputs": [],
   "source": [
    "words_filter = filter(lambda item: item.count('nada') > 0, poems)"
   ]
  },
  {
   "cell_type": "code",
   "execution_count": 19,
   "metadata": {},
   "outputs": [
    {
     "name": "stdout",
     "output_type": "stream",
     "text": [
      "['Não sou nada.', 'Nunca serei nada.', 'Não posso querer ser nada.', 'Com o Destino a conduzir a carroça de tudo pela estrada de nada.']\n"
     ]
    }
   ],
   "source": [
    "print(list(words_filter))"
   ]
  },
  {
   "cell_type": "markdown",
   "metadata": {},
   "source": [
    "# Reduce"
   ]
  },
  {
   "cell_type": "markdown",
   "metadata": {},
   "source": [
    "Aplica uma função a uma lista de elementos, de modo que reduza a sequência a um elemento."
   ]
  },
  {
   "cell_type": "code",
   "execution_count": 20,
   "metadata": {},
   "outputs": [],
   "source": [
    "from functools import reduce\n",
    "import time"
   ]
  },
  {
   "cell_type": "code",
   "execution_count": 21,
   "metadata": {},
   "outputs": [
    {
     "name": "stdout",
     "output_type": "stream",
     "text": [
      "Tempo de execução: 1.7167632579803467\n",
      "Soma: 40499995500000\n"
     ]
    }
   ],
   "source": [
    "t0 = time.time()\n",
    "soma = reduce(lambda x,y: x+y, range(9000000))\n",
    "print('Tempo de execução:', time.time() - t0)\n",
    "print('Soma:',soma)"
   ]
  },
  {
   "cell_type": "code",
   "execution_count": 22,
   "metadata": {},
   "outputs": [
    {
     "data": {
      "text/plain": [
       "0"
      ]
     },
     "execution_count": 22,
     "metadata": {},
     "output_type": "execute_result"
    }
   ],
   "source": [
    "menor = reduce(lambda a,b: a if (a < b) else b, num)\n",
    "menor"
   ]
  },
  {
   "cell_type": "markdown",
   "metadata": {},
   "source": [
    "# Spark context"
   ]
  },
  {
   "cell_type": "code",
   "execution_count": 23,
   "metadata": {},
   "outputs": [],
   "source": [
    "sc = SparkContext.getOrCreate()"
   ]
  },
  {
   "cell_type": "code",
   "execution_count": 24,
   "metadata": {},
   "outputs": [
    {
     "data": {
      "text/plain": [
       "pyspark.rdd.PipelinedRDD"
      ]
     },
     "execution_count": 24,
     "metadata": {},
     "output_type": "execute_result"
    }
   ],
   "source": [
    "rddList = sc.parallelize(range(10000000), 10)\n",
    "type(rddList)"
   ]
  },
  {
   "cell_type": "code",
   "execution_count": 25,
   "metadata": {},
   "outputs": [
    {
     "data": {
      "text/plain": [
       "49999995000000"
      ]
     },
     "execution_count": 25,
     "metadata": {},
     "output_type": "execute_result"
    }
   ],
   "source": [
    "soma = rddList.reduce(lambda x,y: x+y)\n",
    "soma"
   ]
  },
  {
   "cell_type": "markdown",
   "metadata": {},
   "source": [
    "# Leitura de dados"
   ]
  },
  {
   "cell_type": "markdown",
   "metadata": {},
   "source": [
    "Criando RDDs através do <i>parallelize</i>. Os dados são criados através da linha de código abaixo."
   ]
  },
  {
   "cell_type": "code",
   "execution_count": 26,
   "metadata": {},
   "outputs": [
    {
     "data": {
      "text/plain": [
       "pyspark.rdd.RDD"
      ]
     },
     "execution_count": 26,
     "metadata": {},
     "output_type": "execute_result"
    }
   ],
   "source": [
    "dados_nativos = sc.parallelize([('Brazil', 5),('Germany',4),('Italy', 4),('Argentina', 2)])\n",
    "type(dados_nativos)"
   ]
  },
  {
   "cell_type": "code",
   "execution_count": 27,
   "metadata": {},
   "outputs": [
    {
     "data": {
      "text/plain": [
       "ParallelCollectionRDD[2] at parallelize at PythonRDD.scala:195"
      ]
     },
     "execution_count": 27,
     "metadata": {},
     "output_type": "execute_result"
    }
   ],
   "source": [
    "dados_nativos"
   ]
  },
  {
   "cell_type": "code",
   "execution_count": 28,
   "metadata": {},
   "outputs": [
    {
     "data": {
      "text/plain": [
       "[('Brazil', 5), ('Germany', 4), ('Italy', 4), ('Argentina', 2)]"
      ]
     },
     "execution_count": 28,
     "metadata": {},
     "output_type": "execute_result"
    }
   ],
   "source": [
    "dados_nativos.collect()"
   ]
  },
  {
   "cell_type": "code",
   "execution_count": 29,
   "metadata": {},
   "outputs": [
    {
     "data": {
      "text/plain": [
       "[('Brazil', 5), ('Germany', 4)]"
      ]
     },
     "execution_count": 29,
     "metadata": {},
     "output_type": "execute_result"
    }
   ],
   "source": [
    "dados_nativos.take(2)"
   ]
  },
  {
   "cell_type": "markdown",
   "metadata": {},
   "source": [
    "Criando RDDs através de arquivos. "
   ]
  },
  {
   "cell_type": "code",
   "execution_count": 30,
   "metadata": {},
   "outputs": [
    {
     "data": {
      "text/plain": [
       "pyspark.rdd.RDD"
      ]
     },
     "execution_count": 30,
     "metadata": {},
     "output_type": "execute_result"
    }
   ],
   "source": [
    "path = '../../ensemble-system/cm1.csv'\n",
    "\n",
    "dados_arquivo = sc.textFile(path)\n",
    "type(dados_arquivo)"
   ]
  },
  {
   "cell_type": "code",
   "execution_count": 31,
   "metadata": {},
   "outputs": [
    {
     "data": {
      "text/plain": [
       "['1,2,3,4,5,6,7,8,9,10,11,12,13,14,15,16,17,18,19,20,21,Class',\n",
       " '1.1,1.4,1.4,1.4,1.3,1.3,1.3,1.3,1.3,1.3,1.3,1.3,2,2,2,2,1.2,1.2,1.2,1.2,1.4,false',\n",
       " '1,1,1,1,1,1,1,1,1,1,1,1,1,1,1,1,1,1,1,1,1,true',\n",
       " '24,5,1,3,63,309.13,0.11,9.5,32.54,2936.77,0.1,163.15,1,0,6,0,15,15,44,19,9,false',\n",
       " '20,4,4,2,47,215.49,0.06,16,13.47,3447.89,0.07,191.55,0,0,3,0,16,8,31,16,7,false',\n",
       " '24,6,6,2,72,346.13,0.06,17.33,19.97,5999.58,0.12,333.31,0,0,3,0,16,12,46,26,11,false',\n",
       " '24,6,6,2,72,346.13,0.06,17.33,19.97,5999.58,0.12,333.31,0,0,3,0,16,12,46,26,11,false',\n",
       " '7,1,1,1,11,34.87,0.5,2,17.43,69.74,0.01,3.87,0,0,1,0,4,5,6,5,1,false',\n",
       " '12,2,1,2,23,94.01,0.16,6.43,14.62,604.36,0.03,33.58,0,0,7,0,10,7,14,9,3,false',\n",
       " '25,5,5,5,107,548.83,0.07,14.25,38.51,7820.87,0.18,434.49,12,16,13,0,15,20,69,38,9,false']"
      ]
     },
     "execution_count": 31,
     "metadata": {},
     "output_type": "execute_result"
    }
   ],
   "source": [
    "dados_arquivo.take(10)"
   ]
  },
  {
   "cell_type": "markdown",
   "metadata": {},
   "source": [
    "# Operações com RDD"
   ]
  },
  {
   "cell_type": "code",
   "execution_count": 32,
   "metadata": {},
   "outputs": [],
   "source": [
    "import numpy as np"
   ]
  },
  {
   "cell_type": "code",
   "execution_count": 33,
   "metadata": {},
   "outputs": [
    {
     "data": {
      "text/plain": [
       "[0, 1, 2, 3, 4, 5, 6, 7, 8, 9]"
      ]
     },
     "execution_count": 33,
     "metadata": {},
     "output_type": "execute_result"
    }
   ],
   "source": [
    "rdd2 = sc.parallelize(range(100), 10)\n",
    "rdd2.take(10)"
   ]
  },
  {
   "cell_type": "markdown",
   "metadata": {},
   "source": [
    "A RDD criada possui duas partições. O número de partições deve ser passada no método <i>parallelize</i>, mas também possui valor padrão equivalente ao tamanho do cluster. É recomendado estipular o valor ao número de cores da máquina local. Neste caso específico, o RDD foi particionado em 10 arquivos."
   ]
  },
  {
   "cell_type": "code",
   "execution_count": 34,
   "metadata": {},
   "outputs": [
    {
     "data": {
      "text/plain": [
       "[[0, 1, 2, 3, 4, 5, 6, 7, 8, 9],\n",
       " [10, 11, 12, 13, 14, 15, 16, 17, 18, 19],\n",
       " [20, 21, 22, 23, 24, 25, 26, 27, 28, 29],\n",
       " [30, 31, 32, 33, 34, 35, 36, 37, 38, 39],\n",
       " [40, 41, 42, 43, 44, 45, 46, 47, 48, 49],\n",
       " [50, 51, 52, 53, 54, 55, 56, 57, 58, 59],\n",
       " [60, 61, 62, 63, 64, 65, 66, 67, 68, 69],\n",
       " [70, 71, 72, 73, 74, 75, 76, 77, 78, 79],\n",
       " [80, 81, 82, 83, 84, 85, 86, 87, 88, 89],\n",
       " [90, 91, 92, 93, 94, 95, 96, 97, 98, 99]]"
      ]
     },
     "execution_count": 34,
     "metadata": {},
     "output_type": "execute_result"
    }
   ],
   "source": [
    "rdd2.glom().collect()"
   ]
  },
  {
   "cell_type": "code",
   "execution_count": 35,
   "metadata": {},
   "outputs": [
    {
     "data": {
      "text/plain": [
       "10"
      ]
     },
     "execution_count": 35,
     "metadata": {},
     "output_type": "execute_result"
    }
   ],
   "source": [
    "rdd2.getNumPartitions()"
   ]
  },
  {
   "cell_type": "markdown",
   "metadata": {},
   "source": [
    "## Transformações"
   ]
  },
  {
   "cell_type": "code",
   "execution_count": 36,
   "metadata": {},
   "outputs": [
    {
     "name": "stdout",
     "output_type": "stream",
     "text": [
      "ubearable.txt MapPartitionsRDD[11] at textFile at NativeMethodAccessorImpl.java:0\n"
     ]
    }
   ],
   "source": [
    "rddKundera1 = sc.textFile('ubearable.txt', 10)\n",
    "print(rddKundera1)"
   ]
  },
  {
   "cell_type": "code",
   "execution_count": 37,
   "metadata": {},
   "outputs": [
    {
     "data": {
      "text/plain": [
       "10"
      ]
     },
     "execution_count": 37,
     "metadata": {},
     "output_type": "execute_result"
    }
   ],
   "source": [
    "rddKundera1.getNumPartitions()"
   ]
  },
  {
   "cell_type": "code",
   "execution_count": 38,
   "metadata": {},
   "outputs": [
    {
     "data": {
      "text/plain": [
       "[['Milan Kundera e A insustentável leveza do ser',\n",
       "  'O tcheco Milan Kundera tornou-se um dos escritores mais comentados de sua geração após publicar, em 1984, a obra-prima A insustentável leveza do ser.',\n",
       "  '“Para um amor se tornar inesquecível é preciso que, desde o primeiro momento, os acasos se reúnam nele como os pássaros nos ombros de São Francisco de Assis.”'],\n",
       " ['Um romance com um enredo aparentemente simples: um jovem médico, de boa aparência, que não se prende a nada nem a ninguém, pretende levar sua vida com liberdade e sem compromisso até que um dia uma bela e ingênua mulher cai de paraquedas em sua vida. Esse inesperado amor e as “puladas de cerca” do médico são retratados durante os anos seguintes em Praga e também em outras cidades como Genebra.'],\n",
       " ['Não irei explorar aqui nesta webresenha a pura filosofia que muitos insistem em enfatizar nessa obra. Até porque os leigos afirmam que A insustentável leveza do ser não é fácil de ser lido justamente por conta da tal filosofia e os intelectuais o desdenham pela tal filosofia ser superficial e rasa. Irei explorar o que eu considero o assunto principal do livro que é a difícil arte de amar e ser amado e ainda sim deixar que a liberdade esteja presente, que a leveza permaneça.'],\n",
       " ['Os quatro personagens marcantes em A insustentável leveza do ser se completam. Sabina, jovem pintora, parece ser o lado feminino do médico Tomaz, e Tereza, a ingênua menina, muito se parece com o amante de Sabina, o professor Franz. Os dois primeiros procuram levar uma vida sem obrigações e regras enquanto os outros dois teimam em levar uma vida certinha. Mas o acaso é o ingrediente principal desse romance. Tereza se vê completamente apaixonada por Tomaz e vai à Praga para viver esse amor. Sabina, uma das muitas amantes de Tomaz, depois de muito rodar pelo mundo, sem saber, faz com que Franz largue sua mulher para viver com ela a paixão que ele acredita ser recíproca.'],\n",
       " [],\n",
       " ['A insustentável leveza do serO título traduz bem o livro. É o peso versus leveza (como disse antes, não irei entrar no lado filosófico da coisa), ou seja, o peso entendido como o lado negativo, as escolhas que se tem que tomar durante a vida, a responsabilidade que vem com os anos; e a leveza como o lado positivo, a liberdade que se tem para fazer essas escolhas e também a falta de responsabilidade. Por mais livre que o homem seja, não está livre dos acasos da vida, dos imprevistos. Na vida de Tomaz esses acasos estão bem presentes. Sabina pode ser entendida como a leveza e Tereza como o peso.'],\n",
       " [],\n",
       " ['Tomaz e Sabina podem ser entendidos como uma metáfora da própria leveza do ser. Eles são condenados à liberdade de escolha, mas o acaso faz com que essas escolhas não sejam exatamente coerentes com a vida que imaginavam seguir.',\n",
       "  'O romance tem como pano de fundo a cidade de Praga e a invasão russa em 1968. Kundera deixa transparecer seus anseios durante essa fase através do olhar do jovem médico. Tomaz, não conseguindo trair seus ideais (ideais que nem ele sabia que tinha), acaba sendo proibido de exercer a medicina e termina seus dias como um simples agricultor. Esse assunto é bastante abordado na obra, sempre sob o olhar do romance.'],\n",
       " ['Mesmo parecendo simples seu enredo, o livro é bastante profundo, transparecendo as inquietudes da vida de forma quase visceral. A vicissitude presente em A insustentável leveza do ser faz com que o livro seja leitura obrigatória para os amantes de uma boa e interessante história de amor, para quem apenas quer refletir um pouco sobre a vida ou até quem quer conhecer um pouco mais da história da República Tcheca.'],\n",
       " []]"
      ]
     },
     "execution_count": 38,
     "metadata": {},
     "output_type": "execute_result"
    }
   ],
   "source": [
    "rddKundera1.glom().collect()"
   ]
  },
  {
   "cell_type": "code",
   "execution_count": 39,
   "metadata": {},
   "outputs": [
    {
     "name": "stdout",
     "output_type": "stream",
     "text": [
      "10\n"
     ]
    }
   ],
   "source": [
    "print(rddKundera1.count())"
   ]
  },
  {
   "cell_type": "code",
   "execution_count": 40,
   "metadata": {},
   "outputs": [
    {
     "name": "stdout",
     "output_type": "stream",
     "text": [
      "imortality.txt MapPartitionsRDD[15] at textFile at NativeMethodAccessorImpl.java:0\n"
     ]
    }
   ],
   "source": [
    "rddKundera2 = sc.textFile('imortality.txt', 10)\n",
    "print(rddKundera2)"
   ]
  },
  {
   "cell_type": "code",
   "execution_count": 41,
   "metadata": {},
   "outputs": [
    {
     "data": {
      "text/plain": [
       "[[' “A Imortalidade” de Milan Kundera (Dom Quixote)',\n",
       "  '',\n",
       "  'Este é um livro extremamente difícil de comentar, uma vez que o Autor se propõe escrever um romance que não possa ser contado. Trata-se de uma narrativa não linear, onde não existe uma trama principal mas várias, que se cruzam no espaço e no tempo, onde o autor – que é, também uma personagem – intervém e interage com as outras personagens. Este é sobretudo um observador não participante a analisar detalhadamente os gestos e atitudes exteriores do Outro, como um antropólogo ou psicólogo behavourista, para depois procurar o fundamento, o motivo, que sustenta esse mesmo comportamento, seja ele de origem cultural, individual, ou despoletado pela interacção social com determinado grupo.',\n",
       "  '',\n",
       "  'Não se trata, por isso, de um romance autobiográfico mas antes de uma recriação da construção ficcional a partir de um dado real – um rosto ou um gesto a ele associado. Por exemplo, um movimento executado por uma senhora que, já no limiar da velhice, desfere um jovial gesto de despedida ao jovem professor de ginástica, como se fosse uma adolescente.',\n",
       "  '',\n",
       "  'O gesto como signo não verbal, tradutor da essência de sedução, de eterno feminino que nunca envelhece passa, incólume, através das modas que se sucedem ao longo das décadas. Desperta, no Autor, todo um conjunto de reflexões acerca da universalidade e intemporalidade da linguagem não verbal quando se trata de transmitir uma mensagem.',\n",
       "  '',\n",
       "  '',\n",
       "  'Mas se as personagens são fictícias – mesmo as históricas como Goethe, Hemingway ou Beethoven, uma vez que não se trata da biografia de nenhum deles, mas antes da recriação/reconstrução de alguns episódios reais ou inventados das suas vidas (ex: o encontro entre Goethe e Hemingway, já no plano da imortalidade, numa “vida” post-mortem ou da cena de sedução, protagonizada por Goethe e a pseudo-amante, Bettina Brentano).O mesmo nºão se passa com a narração dos métodos de observação do Autor, da construção da narrativa e das personagens.'],\n",
       " ['',\n",
       "  'Para Milan Kundera, o desejo de imortalidade, de permanecer na memória colectiva depois do desaparecimento do mundo terreno, condiciona todos os gestos da humanidade, desde o desejo de fazer-se notar, através da emissão de opiniões marcadas por um fanatismo militante, ao uso do ruído – visual ou auditivo – para chamar a atenção e fixar-se na memória dos demais. Algo que é contrariado pela sociedade que nos molda e nos obriga a submeter-nos às mesmas regras (ex: a censura alheia quando contrariamos a atitude da maioria), um paradoxo da sociedade onde vivemos a qual, ao defender a liberdade de expressão obriga, na realidade, à uniformidade de gestos e atitudes. Ao conformismo.',\n",
       "  '',\n",
       "  'Na primeira parte do romance, Kundera apresenta-nos uma heroína cansada de viver, que encontra a felicidade e a paz na quietude, que procura desesperadamente no meio do ruído infernal da cidade. A paixão pelo silêncio, pela tranquilidade bucólica que encontramos nas frases de Goethe, Agnés herda-a do pai. Um tipo de quietude e silêncio que, nos nossos dias, só se encontra próximo da morte…'],\n",
       " ['',\n",
       "  'O ícone de beleza no seu estado puro está condensado na flor de miosótis (a cor da capa do livro), cujo azul intenso destoa ostensivamente no meio da poluição cinzento/antracite da Cidade.',\n",
       "  '',\n",
       "  'O alheamento de Agnés e a sua falta de solidariedade provém da falta de um afecto verdadeiro e gerador da motivação para o prazer, do contacto social e da alegria. O desenvolvimento do Eu social. Agnés é racional, céptica, profissional e despojada. Mais tarde, verificar-se-á que não é apenas isso.',\n",
       "  '',\n",
       "  'O Autor relaciona, também, o tema da imortalidade com a falta de privacidade em relação às figuras públicas e com a avidez do homem comum que suga vampiricamente a vida privada das celebridades, em busca de escândalos que dêem algum colorido às suas vidas, também elas cinzentas. Da mesma forma, e obedecendo ao mesmo desejo de imortalidade, o jornalismo, na óptica de Kundera, perdeu um pouco de vista a sua primitiva função de informar, para se tornar numa forma de exercício de poder, transformando-se, na maior parte dos casos, numa disputa ou num combate entre entrevistador e entrevistado.',\n",
       "  '',\n",
       "  'A Imortalidade',\n",
       "  '',\n",
       "  'A segunda parte do romance refere-se exclusivamente à vida privada e à dissecação daquilo que terá realmente acontecido entre Goethe e Bettina, num trabalho quase que de arqueólogo. O objectivo é, em primeiro lugar, desenterrar a verdade, limpá-la e deixá-la brilhar no esplendor da sua nudez para depois se encontrar um paralelismo com outra narrativa, já no tempo presente. É neste momento do romance que se observa a universalidade de gestos, dos comportamentos subjacentes às normas de conduta vigentes que se transmitem através dos séculos e que servem, muitas vezes, para mascarar emoções e esconder os impulsos e os verdadeiros motivos que estão por detrás de um gesto ou de uma frase (por exemplo, o quebrar de um par de óculos). E também o processo de atribuição de rótulos inadequados a uma dada figura pública que, ainda antes de se terem inventado os meios audiovisuais, já se colavam de forma indelével a uma dada personalidade distorcendo a sua imagem com um efeito de halo.'],\n",
       " ['',\n",
       "  'É também nesta fase do romance que Milan Kundera expõe a sua tipologia relativa aos diferentes tipos de imortalidade: pequena, grande, sublime, risível…e ainda a imortalidade associada aos homens de estado e, também, aquela que está directamente relacionada aos homens das artes, das letras e das ciências. Frisa, ainda, que a ideia de imortalidade está ligada à ideia da morte, de forma indissociável.',\n",
       "  '',\n",
       "  'Voltando a Bettina Brentano, a suposta amante de Goethe, o seu comportamento imoderado e falta de decoro são alvo do impiedoso sarcasmo e refinadíssima ironia de Kundera, um espírito apolíneo, marcado por um elevado sentido de equilíbrio. O Autor diverte-se a caricaturar todo e qualquer tipo de exagero comportamental ou forma de expressão individual ou colectiva, elevando o seu sentido crítico à forma de Arte. Principalmente quando todo o exagero tem como objectivo o destaque do sujeito que o pratica, ou seja o desejo de permanecer na memória das pessoas. Numa palavra: a imortalidade. Para o Autor só o talento e a inteligência são, na verdade, o único atributo merecedor da imortalidade. O único motivo válido para permanecer na memória colectiva.'],\n",
       " ['',\n",
       "  'Porque a imortalidade sem talento torna-se ridícula. Como é o caso de Bettina. Que ainda por cima tenta colorir de ridículo a imortalidade de Goethe e de Beethoven, ao atribuir a um gesto sem importância um significado espúrio, distorcido das suas reais motivações e personalidade.',\n",
       "  '',\n",
       "  'Kundera encontra afinidades com Goethe (o poeta do século XIX tem, na altura em que conhece Bettina, a mesma idade que Kundera ao escrever o romance), identificando-se com este, quando, numa das suas cartas a um amigo, apelida Bettina de “moscardo insuportável” que é a sua afirmação da total liberdade de expressão.',\n",
       "  '',\n",
       "  'Bettina acaba por ser publicamente desmoralizada com a publicação da correspondência original de Goethe, que desmente inequivocamente o romance forjado por uma jovem sem talento nem inteligência que lhe valham um lugar entre os Imortais.',\n",
       "  '',\n",
       "  'O amor pelo silêncio vem unir três intervenientes na estória: o próprio Kundera, que participa no romance na qualidade de narrador/observador, sem intervir no desenrolar dos acontecimentos (a não ser enquanto criador das personagem; de facto, pode-se dizer que o Autor está a desempenhar o papel de um deus que observa tudo de um lugar privilegiado, ou de um espectador de teatro que assiste ao desenrolar da cena, confortavelmente instalado no seu camarote; ou então de um antropólogo, observador não participante, que regista, classifica e interpreta os acontecimentos tentando abster-se de efectuar juízos de valor).'],\n",
       " ['',\n",
       "  'Ao analisar Bettina, Kundera identifica-a como uma precursora do jornalismo sensacionalista, cujo objectivo é o de achincalhar o aspecto privado e humano das figuras públicas susceptíveis de se tornarem imortais, de forma a conquistarem audiências e assim “saciarem o apetite das massas por episódios burlescos”. Mas não só. É preciso também que as massas se sintam mais próximas daqueles que se destacaram de entre os muitos milhões que nunca saíram do anonimato. Porque o lado humano e grotesco dos génios atenua a diferença. O móbil é sempre o mesmo. A imortalidade. Mesmo que conseguida à custa da desvalorização do inquestionável talento do Outro.',\n",
       "  '',\n",
       "  'O mesmo se passa hoje em dia com a Comunicação Social, onde o jornalismo que, desde Oriana Fallaci, faz e desfaz reputações, constrói a imagem das figuras públicas. Para Milan Kundera a ideologia nos dias de hoje, foi substituída pela imagologia.',\n",
       "  '',\n",
       "  'Este é um tema que é desenvolvido na terceira parte da obra intitulada A Luta'],\n",
       " ['',\n",
       "  'A Luta',\n",
       "  '',\n",
       "  'Nesta terceira parte, o Autor desenvolve uma trama principal construída com as personagens fictícias do tempo presente – as duas irmãs, rivais desde a infância, Agnés e Laura.',\n",
       "  '',\n",
       "  'Desde sempre, Laura tenta superar a irmã, imitando-a ao mesmo tempo que a corrige, com o objectivo de se tornar a favorita do pai. Uma tendência comportamental que transpõe, depois, para a vida adulta, ao disputar-lhe o marido, Paul. Kundera “veste-a” com muitos dos comportamentos de Bettina, com a diferença de que Laura é uma exímia chantagista emocional, ao passo que Bettina se destaca pela presunção e inconveniente ubiquidade.',\n",
       "  '',\n",
       "  'Ambas se servem do mesmo objecto, um par de óculos, atrás dos quais escondem a sua falsa fragilidade. No entanto, as duas são diametralmente opostas na forma como encaram a sexualidade e de se relacionarem com o próprio corpo.',\n",
       "  '',\n",
       "  'Por outro lado, a idolatria militante da lógica, do modernismo, da juventude e a preocupação excessiva em não parecer antiquado são factores que explicam as atitudes de algumas personagens – Paul – modeladas pelos valores colocados no pedestal ideológico do século XX.',\n",
       "  '',\n",
       "  'Homo Sentimentalis',\n",
       "  '',\n",
       "  'Na quarta parte deste A Imortalidade, Kundera estabelece a comparação entre o racionalismo cartesiano francês e o sentimentalismo leste europeu, explorando as respectivas causas sociais (vide pag 191) no inconsciente colectivo. Tudo isto a propósito da posição dos três autores, no início do século, relativamente ao caso Bettina-Goethe.'],\n",
       " ['',\n",
       "  'Todos eles são unânimes se não na defesa, pelo menos na simpatia por Bettina, esmagando a esposa, Christiane, que Goethe sempre protegeu. No seu entender, à luz da cultura judaico-cristã, a paixão e o amor conjugal são incompatíveis e inconciliáveis na mesma pessoa.',\n",
       "  '',\n",
       "  'A partir dos comentários tecidos por estes três Autores, Kundera chega à distinção entre amor-sentimento e amor-relação. E conclui que o amor de Bettina é auto-suficiente. Não precisa de retribuição. Um amor que não precisa de aprofundar o conhecimento do Outro. De partilhar. Porque se alimenta de si próprio. Bettina está apaixonada pela ideia do amor e não pela pessoa em si. Trata-se da imitação de um sentimento que, segundo o Autor, degenera em histeria.',\n",
       "  'O autor explica que o posicionamento dos três escritores do início do século XX, baseando-se no conceito de romance que, na época, tinha grande impacto no público: o romance extraconjugal.',\n",
       "  '',\n",
       "  'Na altura a instituição da Igreja proibia o sexo fora do casamento e sendo este mesmo casamento o casamento, a cena final do romance, o sexo a ele associado tirava a magia ao desenvolvimento da trama. Logo, Christiane estava em desvantagem em relação a Bettina. Logo, esta teria, para a época, o perfil de heroína romântica, infeliz e desprezada pelo homem que se refugia no casamento. Kundera vai ainda mais longe chegando, inclusive, a afirmar que, a história da literatura europeia, deixa de fora o casamento não para proteger os leitores do possível tédio matrimonial, mas para os protegerem do coito. É talvez por esta razão que, na mesma literatura europeia, o sexo (sempre em contexto extra-conjugal) vem quase sempre associado a algo de nefasto, acompanhado da tragédia, ou da ideia do Mal.'],\n",
       " ['',\n",
       "  'Esta fase do romance destina-se a desmascarar os detractores de Goethe e Beethoven, resgatá-los da lama do ridículo.',\n",
       "  '',\n",
       "  'O Acaso',\n",
       "  '',\n",
       "  'O papel do Acaso está relacionado com a história de Agnés, onde o Autor explora a forma como duas pessoas que, aparentemente, sem ter nada em comum, constroem uma relação baseada em falsas premissas, na esperança de o parceiro entrar no seu mundo, compreendê-lo e extasiar-se quando, na realidade, ambos têm uma compreensão e interpretação do meio ambiente completamente oposta e inconciliável. Tudo em nome da perseguição do ideal de amor. Uma planta espontânea que nasce do fruto do acaso. E de uma série de coincidências sucessivas.',\n",
       "  '',\n",
       "  'A Imortalidade é um romance onde não há unidade de acção. O Autor quebra continuamente a intensidade dramática com as suas corrosivas reflexões pessoais que só enriquecem o romance, tornando-o apetecível. Um livro para ser saboreado frase a frase.',\n",
       "  '',\n",
       "  'O Mostrador',\n",
       "  '',\n",
       "  'O Relógio da Vida é, segundo a óptica de Kundera, marcado por um tema (o qual, para um psicólogo seria a personalidade base, estrutural) e pelas respectivas variações (a personalidade modal, adaptável consoante o binómio indivíduo/meio social), em analogia com as composições musicais e a evolução da personalidade e, também, com o percurso solar pelas constelações que correspondem às doze casas do zodíaco! O papel do fatalismo da astrologia na cultura europeia.'],\n",
       " ['',\n",
       "  'Um curioso aspecto nesta fase do romance é aquilo que começa por ser uma dissertação sobre as diferentes fases da vida erótica do ser humano que acaba por se transformar numa sequência de acasos que constróem um romance (tal como acontece em A Insustentável leveza do ser) fechando um ciclo tal como acontece com o mostrador do relógio e com o ano zodiacal.',\n",
       "  '',\n",
       "  'A celebração',\n",
       "  '',\n",
       "  'Esta última parte acaba por ser um epílogo, no qual o mistério que envolve a vida das personagens é desvendado, revelado ao leitor e, também, à maior parte das personagens. De facto, só uma delas fica a flutuar, entregue à sua bem-aventurada cegueira. A sua estultícia e decadência de espírito fazem com que os outros o olhem com uma piedade mesclada de desprezo. Os bem-aventurados contemplam, do alto das suas espreguiçadeiras, o esplendor etílico do espectáculo de um condenado ao inferno do ciúme e da infidelidade.',\n",
       "  '',\n",
       "  'Nada é tão fútil como o apetite narcísico por uma imortalidade vazia de sentido.',\n",
       "  '',\n",
       "  'Algo que só encontra fundamento na expressão máxima da Arte e do Belo.',\n",
       "  '',\n",
       "  'O espírito helénico Milan Kundera, n’A Imortalidade.',\n",
       "  '',\n",
       "  'Sublime.',\n",
       "  '',\n",
       "  'Em todos sentidos.',\n",
       "  '']]"
      ]
     },
     "execution_count": 41,
     "metadata": {},
     "output_type": "execute_result"
    }
   ],
   "source": [
    "rddKundera2.glom().collect()"
   ]
  },
  {
   "cell_type": "code",
   "execution_count": 42,
   "metadata": {},
   "outputs": [],
   "source": [
    "milan = rddKundera1.filter(lambda linha: 'Milan' in linha)\n",
    "kundera = rddKundera1.filter(lambda linha: 'Milan' in linha)"
   ]
  },
  {
   "cell_type": "code",
   "execution_count": 43,
   "metadata": {},
   "outputs": [],
   "source": [
    "result = milan.intersection(kundera)"
   ]
  },
  {
   "cell_type": "code",
   "execution_count": 44,
   "metadata": {},
   "outputs": [
    {
     "data": {
      "text/plain": [
       "['Milan Kundera e A insustentável leveza do ser',\n",
       " 'O tcheco Milan Kundera tornou-se um dos escritores mais comentados de sua geração após publicar, em 1984, a obra-prima A insustentável leveza do ser.']"
      ]
     },
     "execution_count": 44,
     "metadata": {},
     "output_type": "execute_result"
    }
   ],
   "source": [
    "result.collect()"
   ]
  },
  {
   "cell_type": "markdown",
   "metadata": {},
   "source": [
    "## Verificação de palavras"
   ]
  },
  {
   "cell_type": "code",
   "execution_count": 45,
   "metadata": {},
   "outputs": [],
   "source": [
    "tomaz = rddKundera1.filter(lambda item: 'Tomaz' in item)"
   ]
  },
  {
   "cell_type": "code",
   "execution_count": 46,
   "metadata": {},
   "outputs": [
    {
     "data": {
      "text/plain": [
       "['Os quatro personagens marcantes em A insustentável leveza do ser se completam. Sabina, jovem pintora, parece ser o lado feminino do médico Tomaz, e Tereza, a ingênua menina, muito se parece com o amante de Sabina, o professor Franz. Os dois primeiros procuram levar uma vida sem obrigações e regras enquanto os outros dois teimam em levar uma vida certinha. Mas o acaso é o ingrediente principal desse romance. Tereza se vê completamente apaixonada por Tomaz e vai à Praga para viver esse amor. Sabina, uma das muitas amantes de Tomaz, depois de muito rodar pelo mundo, sem saber, faz com que Franz largue sua mulher para viver com ela a paixão que ele acredita ser recíproca.',\n",
       " 'A insustentável leveza do serO título traduz bem o livro. É o peso versus leveza (como disse antes, não irei entrar no lado filosófico da coisa), ou seja, o peso entendido como o lado negativo, as escolhas que se tem que tomar durante a vida, a responsabilidade que vem com os anos; e a leveza como o lado positivo, a liberdade que se tem para fazer essas escolhas e também a falta de responsabilidade. Por mais livre que o homem seja, não está livre dos acasos da vida, dos imprevistos. Na vida de Tomaz esses acasos estão bem presentes. Sabina pode ser entendida como a leveza e Tereza como o peso.',\n",
       " 'Tomaz e Sabina podem ser entendidos como uma metáfora da própria leveza do ser. Eles são condenados à liberdade de escolha, mas o acaso faz com que essas escolhas não sejam exatamente coerentes com a vida que imaginavam seguir.',\n",
       " 'O romance tem como pano de fundo a cidade de Praga e a invasão russa em 1968. Kundera deixa transparecer seus anseios durante essa fase através do olhar do jovem médico. Tomaz, não conseguindo trair seus ideais (ideais que nem ele sabia que tinha), acaba sendo proibido de exercer a medicina e termina seus dias como um simples agricultor. Esse assunto é bastante abordado na obra, sempre sob o olhar do romance.']"
      ]
     },
     "execution_count": 46,
     "metadata": {},
     "output_type": "execute_result"
    }
   ],
   "source": [
    "tomaz.collect()"
   ]
  },
  {
   "cell_type": "code",
   "execution_count": 47,
   "metadata": {},
   "outputs": [],
   "source": [
    "imortalidade = rddKundera2.filter(lambda item: 'imortalidade' in item)"
   ]
  },
  {
   "cell_type": "code",
   "execution_count": 48,
   "metadata": {},
   "outputs": [
    {
     "data": {
      "text/plain": [
       "['Mas se as personagens são fictícias – mesmo as históricas como Goethe, Hemingway ou Beethoven, uma vez que não se trata da biografia de nenhum deles, mas antes da recriação/reconstrução de alguns episódios reais ou inventados das suas vidas (ex: o encontro entre Goethe e Hemingway, já no plano da imortalidade, numa “vida” post-mortem ou da cena de sedução, protagonizada por Goethe e a pseudo-amante, Bettina Brentano).O mesmo nºão se passa com a narração dos métodos de observação do Autor, da construção da narrativa e das personagens.',\n",
       " 'Para Milan Kundera, o desejo de imortalidade, de permanecer na memória colectiva depois do desaparecimento do mundo terreno, condiciona todos os gestos da humanidade, desde o desejo de fazer-se notar, através da emissão de opiniões marcadas por um fanatismo militante, ao uso do ruído – visual ou auditivo – para chamar a atenção e fixar-se na memória dos demais. Algo que é contrariado pela sociedade que nos molda e nos obriga a submeter-nos às mesmas regras (ex: a censura alheia quando contrariamos a atitude da maioria), um paradoxo da sociedade onde vivemos a qual, ao defender a liberdade de expressão obriga, na realidade, à uniformidade de gestos e atitudes. Ao conformismo.',\n",
       " 'O Autor relaciona, também, o tema da imortalidade com a falta de privacidade em relação às figuras públicas e com a avidez do homem comum que suga vampiricamente a vida privada das celebridades, em busca de escândalos que dêem algum colorido às suas vidas, também elas cinzentas. Da mesma forma, e obedecendo ao mesmo desejo de imortalidade, o jornalismo, na óptica de Kundera, perdeu um pouco de vista a sua primitiva função de informar, para se tornar numa forma de exercício de poder, transformando-se, na maior parte dos casos, numa disputa ou num combate entre entrevistador e entrevistado.',\n",
       " 'É também nesta fase do romance que Milan Kundera expõe a sua tipologia relativa aos diferentes tipos de imortalidade: pequena, grande, sublime, risível…e ainda a imortalidade associada aos homens de estado e, também, aquela que está directamente relacionada aos homens das artes, das letras e das ciências. Frisa, ainda, que a ideia de imortalidade está ligada à ideia da morte, de forma indissociável.',\n",
       " 'Voltando a Bettina Brentano, a suposta amante de Goethe, o seu comportamento imoderado e falta de decoro são alvo do impiedoso sarcasmo e refinadíssima ironia de Kundera, um espírito apolíneo, marcado por um elevado sentido de equilíbrio. O Autor diverte-se a caricaturar todo e qualquer tipo de exagero comportamental ou forma de expressão individual ou colectiva, elevando o seu sentido crítico à forma de Arte. Principalmente quando todo o exagero tem como objectivo o destaque do sujeito que o pratica, ou seja o desejo de permanecer na memória das pessoas. Numa palavra: a imortalidade. Para o Autor só o talento e a inteligência são, na verdade, o único atributo merecedor da imortalidade. O único motivo válido para permanecer na memória colectiva.',\n",
       " 'Porque a imortalidade sem talento torna-se ridícula. Como é o caso de Bettina. Que ainda por cima tenta colorir de ridículo a imortalidade de Goethe e de Beethoven, ao atribuir a um gesto sem importância um significado espúrio, distorcido das suas reais motivações e personalidade.',\n",
       " 'Ao analisar Bettina, Kundera identifica-a como uma precursora do jornalismo sensacionalista, cujo objectivo é o de achincalhar o aspecto privado e humano das figuras públicas susceptíveis de se tornarem imortais, de forma a conquistarem audiências e assim “saciarem o apetite das massas por episódios burlescos”. Mas não só. É preciso também que as massas se sintam mais próximas daqueles que se destacaram de entre os muitos milhões que nunca saíram do anonimato. Porque o lado humano e grotesco dos génios atenua a diferença. O móbil é sempre o mesmo. A imortalidade. Mesmo que conseguida à custa da desvalorização do inquestionável talento do Outro.',\n",
       " 'Nada é tão fútil como o apetite narcísico por uma imortalidade vazia de sentido.']"
      ]
     },
     "execution_count": 48,
     "metadata": {},
     "output_type": "execute_result"
    }
   ],
   "source": [
    "imortalidade.collect()"
   ]
  },
  {
   "cell_type": "markdown",
   "metadata": {},
   "source": [
    "## takeSample - gerar amostrar"
   ]
  },
  {
   "cell_type": "code",
   "execution_count": 49,
   "metadata": {},
   "outputs": [],
   "source": [
    "rdd3 = sc.parallelize(range(100))"
   ]
  },
  {
   "cell_type": "code",
   "execution_count": 50,
   "metadata": {},
   "outputs": [],
   "source": [
    "contador = rdd3.count()"
   ]
  },
  {
   "cell_type": "code",
   "execution_count": 51,
   "metadata": {},
   "outputs": [
    {
     "name": "stdout",
     "output_type": "stream",
     "text": [
      "Numero de elementos no RDD: 100\n"
     ]
    }
   ],
   "source": [
    "print('Numero de elementos no RDD: {}'.format(contador))"
   ]
  },
  {
   "cell_type": "code",
   "execution_count": 52,
   "metadata": {},
   "outputs": [
    {
     "name": "stdout",
     "output_type": "stream",
     "text": [
      "[50, 5, 68, 63, 22, 48, 51, 13, 93, 45]\n"
     ]
    }
   ],
   "source": [
    "sample = rdd3.takeSample(withReplacement=True, num=10)\n",
    "print(sample)"
   ]
  },
  {
   "cell_type": "code",
   "execution_count": null,
   "metadata": {},
   "outputs": [],
   "source": []
  }
 ],
 "metadata": {
  "kernelspec": {
   "display_name": "Python 3",
   "language": "python",
   "name": "python3"
  },
  "language_info": {
   "codemirror_mode": {
    "name": "ipython",
    "version": 3
   },
   "file_extension": ".py",
   "mimetype": "text/x-python",
   "name": "python",
   "nbconvert_exporter": "python",
   "pygments_lexer": "ipython3",
   "version": "3.6.5"
  }
 },
 "nbformat": 4,
 "nbformat_minor": 2
}
