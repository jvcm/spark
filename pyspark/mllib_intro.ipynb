{
 "cells": [
  {
   "cell_type": "code",
   "execution_count": 1,
   "metadata": {},
   "outputs": [
    {
     "data": {
      "text/html": [
       "\n",
       "        <div>\n",
       "            <p><b>SparkContext</b></p>\n",
       "\n",
       "            <p><a href=\"http://172.20.43.125:4040\">Spark UI</a></p>\n",
       "\n",
       "            <dl>\n",
       "              <dt>Version</dt>\n",
       "                <dd><code>v2.4.0</code></dd>\n",
       "              <dt>Master</dt>\n",
       "                <dd><code>local[3]</code></dd>\n",
       "              <dt>AppName</dt>\n",
       "                <dd><code>PySparkShell</code></dd>\n",
       "            </dl>\n",
       "        </div>\n",
       "        "
      ],
      "text/plain": [
       "<SparkContext master=local[3] appName=PySparkShell>"
      ]
     },
     "execution_count": 1,
     "metadata": {},
     "output_type": "execute_result"
    }
   ],
   "source": [
    "sc"
   ]
  },
  {
   "cell_type": "markdown",
   "metadata": {},
   "source": [
    "# Introducing MLlib"
   ]
  },
  {
   "cell_type": "markdown",
   "metadata": {},
   "source": [
    "Even though the package is currently in a maintenance mode and is not actively\n",
    "being worked on, it is still good to know how to use it. Also, for now it is the only\n",
    "package available to train models while streaming data.\n",
    "\n",
    "The MLlib package in Spark operates strictly on RDDs."
   ]
  },
  {
   "cell_type": "code",
   "execution_count": 2,
   "metadata": {},
   "outputs": [],
   "source": [
    "import pyspark.sql.types as typ\n",
    "import pyspark.sql.functions as fn"
   ]
  },
  {
   "cell_type": "code",
   "execution_count": 3,
   "metadata": {},
   "outputs": [],
   "source": [
    "birthFilePath = './data/births_train.csv.gz'"
   ]
  },
  {
   "cell_type": "code",
   "execution_count": 4,
   "metadata": {},
   "outputs": [],
   "source": [
    "labels = [\n",
    "    ('INFANT_ALIVE_AT_REPORT', typ.StringType()),\n",
    "    ('BIRTH_YEAR', typ.IntegerType()),\n",
    "    ('BIRTH_MONTH', typ.IntegerType()),\n",
    "    ('BIRTH_PLACE', typ.StringType()),\n",
    "    ('MOTHER_AGE_YEARS', typ.IntegerType()),\n",
    "    ('MOTHER_RACE_6CODE', typ.StringType()),\n",
    "    ('MOTHER_EDUCATION', typ.StringType()),\n",
    "    ('FATHER_COMBINED_AGE', typ.IntegerType()),\n",
    "    ('FATHER_EDUCATION', typ.StringType()),\n",
    "    ('MONTH_PRECARE_RECODE', typ.StringType()),\n",
    "    ('CIG_BEFORE', typ.IntegerType()),\n",
    "    ('CIG_1_TRI', typ.IntegerType()),\n",
    "    ('CIG_2_TRI', typ.IntegerType()),\n",
    "    ('CIG_3_TRI', typ.IntegerType()),\n",
    "    ('MOTHER_HEIGHT_IN', typ.IntegerType()),\n",
    "    ('MOTHER_BMI_RECODE', typ.IntegerType()),\n",
    "    ('MOTHER_PRE_WEIGHT', typ.IntegerType()),\n",
    "    ('MOTHER_DELIVERY_WEIGHT', typ.IntegerType()),\n",
    "    ('MOTHER_WEIGHT_GAIN', typ.IntegerType()),\n",
    "    ('DIABETES_PRE', typ.StringType()),\n",
    "    ('DIABETES_GEST', typ.StringType()),\n",
    "    ('HYP_TENS_PRE', typ.StringType()),\n",
    "    ('HYP_TENS_GEST', typ.StringType()),\n",
    "    ('PREV_BIRTH_PRETERM', typ.StringType()),\n",
    "    ('NO_RISK', typ.StringType()),\n",
    "    ('NO_INFECTIONS_REPORTED', typ.StringType()),\n",
    "    ('LABOR_IND', typ.StringType()),\n",
    "    ('LABOR_AUGM', typ.StringType()),\n",
    "    ('STEROIDS', typ.StringType()),\n",
    "    ('ANTIBIOTICS', typ.StringType()),\n",
    "    ('ANESTHESIA', typ.StringType()),\n",
    "    ('DELIV_METHOD_RECODE_COMB', typ.StringType()),\n",
    "    ('ATTENDANT_BIRTH', typ.StringType()),\n",
    "    ('APGAR_5', typ.IntegerType()),\n",
    "    ('APGAR_5_RECODE', typ.StringType()),\n",
    "    ('APGAR_10', typ.IntegerType()),\n",
    "    ('APGAR_10_RECODE', typ.StringType()),\n",
    "    ('INFANT_SEX', typ.StringType()),\n",
    "    ('OBSTETRIC_GESTATION_WEEKS', typ.IntegerType()),\n",
    "    ('INFANT_WEIGHT_GRAMS', typ.IntegerType()),\n",
    "    ('INFANT_ASSIST_VENTI', typ.StringType()),\n",
    "    ('INFANT_ASSIST_VENTI_6HRS', typ.StringType()),\n",
    "    ('INFANT_NICU_ADMISSION', typ.StringType()),\n",
    "    ('INFANT_SURFACANT', typ.StringType()),\n",
    "    ('INFANT_ANTIBIOTICS', typ.StringType()),\n",
    "    ('INFANT_SEIZURES', typ.StringType()),\n",
    "    ('INFANT_NO_ABNORMALITIES', typ.StringType()),\n",
    "    ('INFANT_ANCEPHALY', typ.StringType()),\n",
    "    ('INFANT_MENINGOMYELOCELE', typ.StringType()),\n",
    "    ('INFANT_LIMB_REDUCTION', typ.StringType()),\n",
    "    ('INFANT_DOWN_SYNDROME', typ.StringType()),\n",
    "    ('INFANT_SUSPECTED_CHROMOSOMAL_DISORDER', typ.StringType()),\n",
    "    ('INFANT_NO_CONGENITAL_ANOMALIES_CHECKED', typ.StringType()),\n",
    "    ('INFANT_BREASTFED', typ.StringType())\n",
    "]\n",
    "\n",
    "schema = typ.StructType([\n",
    " typ.StructField(e[0], e[1], False) for e in labels\n",
    " ])"
   ]
  },
  {
   "cell_type": "code",
   "execution_count": 5,
   "metadata": {},
   "outputs": [],
   "source": [
    "df_birth = spark.read.csv(birthFilePath,\n",
    "                         schema = schema,\n",
    "                         header = True)"
   ]
  },
  {
   "cell_type": "code",
   "execution_count": 6,
   "metadata": {},
   "outputs": [],
   "source": [
    "recode_dict = {\n",
    "    'YNU': {\n",
    "        'Y': 1,\n",
    "        'N': 0,\n",
    "        'U': 0\n",
    "    }\n",
    "}"
   ]
  },
  {
   "cell_type": "markdown",
   "metadata": {},
   "source": [
    "We will drop all of the features that relate to the infant and will\n",
    "try to predict the infant's chances of surviving only based on the features related to\n",
    "its mother, father, and the place of birth:"
   ]
  },
  {
   "cell_type": "code",
   "execution_count": 7,
   "metadata": {},
   "outputs": [],
   "source": [
    "selected_features = [\n",
    " 'INFANT_ALIVE_AT_REPORT',\n",
    " 'BIRTH_PLACE',\n",
    " 'MOTHER_AGE_YEARS',\n",
    " 'FATHER_COMBINED_AGE',\n",
    " 'CIG_BEFORE',\n",
    " 'CIG_1_TRI',\n",
    " 'CIG_2_TRI',\n",
    " 'CIG_3_TRI',\n",
    " 'MOTHER_HEIGHT_IN',\n",
    " 'MOTHER_PRE_WEIGHT',\n",
    " 'MOTHER_DELIVERY_WEIGHT',\n",
    " 'MOTHER_WEIGHT_GAIN',\n",
    " 'DIABETES_PRE',\n",
    " 'DIABETES_GEST',\n",
    " 'HYP_TENS_PRE',\n",
    " 'HYP_TENS_GEST',\n",
    " 'PREV_BIRTH_PRETERM'\n",
    "]\n",
    "births_trimmed = df_birth.select(selected_features)"
   ]
  },
  {
   "cell_type": "markdown",
   "metadata": {},
   "source": [
    "Number of cigs smoked: \n",
    "- 0 means the mother smoked no cigarettes before or during the pregnancy;\n",
    "- Between 1-97 states the actual number of cigarette smoked;\n",
    "- 98 indicates either 98 or more.\n",
    "\n",
    "Whereas 99 identifies the unknown; we will assume the unknown is 0 and recode accordingly."
   ]
  },
  {
   "cell_type": "code",
   "execution_count": 8,
   "metadata": {},
   "outputs": [],
   "source": [
    "for col in ['CIG_BEFORE', 'CIG_1_TRI', 'CIG_2_TRI', 'CIG_3_TRI']:\n",
    "    births_trimmed = births_trimmed.withColumn(col,\n",
    "                                               fn.when(births_trimmed[col] > 98,\n",
    "                                               fn.lit(0)).otherwise(births_trimmed[col]))"
   ]
  },
  {
   "cell_type": "markdown",
   "metadata": {},
   "source": [
    "Now we will focus on correcting the Yes/No/Unknown features. First, we will\n",
    "figure out which these are with the following snippet:"
   ]
  },
  {
   "cell_type": "code",
   "execution_count": 9,
   "metadata": {},
   "outputs": [],
   "source": [
    "cols = [(col.name, col.dataType) for col in births_trimmed.schema]\n",
    "YNU_cols = []\n",
    "\n",
    "for i, s in enumerate(cols):\n",
    "    if s[1] == typ.StringType():\n",
    "        if births_trimmed.select(s[0]).distinct().collect()[0][0] == 'Y' \\\n",
    "        or births_trimmed.select(s[0]).distinct().collect()[0][0] == 'N' \\\n",
    "        or births_trimmed.select(s[0]).distinct().collect()[0][0] == 'U':\n",
    "            YNU_cols.append(s[0])"
   ]
  },
  {
   "cell_type": "code",
   "execution_count": 10,
   "metadata": {},
   "outputs": [
    {
     "data": {
      "text/plain": [
       "['INFANT_ALIVE_AT_REPORT',\n",
       " 'DIABETES_PRE',\n",
       " 'DIABETES_GEST',\n",
       " 'HYP_TENS_PRE',\n",
       " 'HYP_TENS_GEST',\n",
       " 'PREV_BIRTH_PRETERM']"
      ]
     },
     "execution_count": 10,
     "metadata": {},
     "output_type": "execute_result"
    }
   ],
   "source": [
    "YNU_cols"
   ]
  },
  {
   "cell_type": "code",
   "execution_count": 11,
   "metadata": {},
   "outputs": [],
   "source": [
    "for col in YNU_cols:\n",
    "    births_trimmed = births_trimmed.withColumn(col,\n",
    "        fn.when(births_trimmed[col] == 'Y',\n",
    "        fn.lit(1)).otherwise(fn.lit(0)))"
   ]
  },
  {
   "cell_type": "code",
   "execution_count": 12,
   "metadata": {
    "scrolled": false
   },
   "outputs": [
    {
     "name": "stdout",
     "output_type": "stream",
     "text": [
      "+----------------------+-----------+----------------+-------------------+----------+---------+---------+---------+----------------+-----------------+----------------------+------------------+------------+-------------+------------+-------------+------------------+\n",
      "|INFANT_ALIVE_AT_REPORT|BIRTH_PLACE|MOTHER_AGE_YEARS|FATHER_COMBINED_AGE|CIG_BEFORE|CIG_1_TRI|CIG_2_TRI|CIG_3_TRI|MOTHER_HEIGHT_IN|MOTHER_PRE_WEIGHT|MOTHER_DELIVERY_WEIGHT|MOTHER_WEIGHT_GAIN|DIABETES_PRE|DIABETES_GEST|HYP_TENS_PRE|HYP_TENS_GEST|PREV_BIRTH_PRETERM|\n",
      "+----------------------+-----------+----------------+-------------------+----------+---------+---------+---------+----------------+-----------------+----------------------+------------------+------------+-------------+------------+-------------+------------------+\n",
      "|                     0|          1|              29|                 99|         0|        0|        0|        0|              99|              999|                   999|                99|           0|            0|           0|            0|                 0|\n",
      "|                     0|          1|              22|                 29|         0|        0|        0|        0|              65|              180|                   198|                18|           0|            0|           0|            0|                 0|\n",
      "|                     0|          1|              38|                 40|         0|        0|        0|        0|              63|              155|                   167|                12|           0|            0|           0|            0|                 0|\n",
      "|                     0|          1|              39|                 42|         0|        0|        0|        0|              60|              128|                   152|                24|           0|            0|           0|            0|                 1|\n",
      "|                     0|          1|              18|                 99|         6|        4|        2|        2|              61|              110|                   130|                20|           0|            0|           0|            0|                 0|\n",
      "+----------------------+-----------+----------------+-------------------+----------+---------+---------+---------+----------------+-----------------+----------------------+------------------+------------+-------------+------------+-------------+------------------+\n",
      "only showing top 5 rows\n",
      "\n"
     ]
    }
   ],
   "source": [
    "births_trimmed.show(5)"
   ]
  },
  {
   "cell_type": "markdown",
   "metadata": {},
   "source": [
    "## Exploratory Data Analysis"
   ]
  },
  {
   "cell_type": "markdown",
   "metadata": {},
   "source": [
    "Numeric variables:"
   ]
  },
  {
   "cell_type": "code",
   "execution_count": 13,
   "metadata": {},
   "outputs": [],
   "source": [
    "numeric_cols = ['MOTHER_AGE_YEARS','FATHER_COMBINED_AGE',\n",
    " 'CIG_BEFORE','CIG_1_TRI','CIG_2_TRI','CIG_3_TRI',\n",
    " 'MOTHER_HEIGHT_IN','MOTHER_PRE_WEIGHT',\n",
    " 'MOTHER_DELIVERY_WEIGHT','MOTHER_WEIGHT_GAIN'\n",
    " ]"
   ]
  },
  {
   "cell_type": "code",
   "execution_count": 14,
   "metadata": {},
   "outputs": [
    {
     "name": "stdout",
     "output_type": "stream",
     "text": [
      "+-------+------------------+-------------------+-----------------+------------------+-----------------+------------------+------------------+------------------+----------------------+------------------+\n",
      "|summary|  MOTHER_AGE_YEARS|FATHER_COMBINED_AGE|       CIG_BEFORE|         CIG_1_TRI|        CIG_2_TRI|         CIG_3_TRI|  MOTHER_HEIGHT_IN| MOTHER_PRE_WEIGHT|MOTHER_DELIVERY_WEIGHT|MOTHER_WEIGHT_GAIN|\n",
      "+-------+------------------+-------------------+-----------------+------------------+-----------------+------------------+------------------+------------------+----------------------+------------------+\n",
      "|  count|             45429|              45429|            45429|             45429|            45429|             45429|             45429|             45429|                 45429|             45429|\n",
      "|   mean|28.298421713002707|  44.54975896453807|1.427986528428977|0.9057430275815008|0.702480794206344|0.5800259745977239|   65.120891941271|214.49840410310594|    223.62609786700125| 30.73996786193841|\n",
      "| stddev|  6.07852567975842|  27.55049506501614|5.181485847421896| 3.825772124821775|3.311339851561685|3.1096820245718777|6.4519786205869245|210.20863300987224|    180.01405740471583|26.225579944343043|\n",
      "|    min|                12|                 13|                0|                 0|                0|                 0|                30|                75|                   100|                 0|\n",
      "|    max|                50|                 99|               98|                98|               98|                98|                99|               999|                   999|                99|\n",
      "+-------+------------------+-------------------+-----------------+------------------+-----------------+------------------+------------------+------------------+----------------------+------------------+\n",
      "\n"
     ]
    }
   ],
   "source": [
    "births_trimmed.select(numeric_cols).describe().show()"
   ]
  },
  {
   "cell_type": "markdown",
   "metadata": {},
   "source": [
    "Categorical variables:"
   ]
  },
  {
   "cell_type": "code",
   "execution_count": 15,
   "metadata": {},
   "outputs": [],
   "source": [
    "categorical_cols = [col for col in births_trimmed.columns if (col not in numeric_cols)]"
   ]
  },
  {
   "cell_type": "code",
   "execution_count": 16,
   "metadata": {},
   "outputs": [
    {
     "data": {
      "text/plain": [
       "['INFANT_ALIVE_AT_REPORT',\n",
       " 'BIRTH_PLACE',\n",
       " 'DIABETES_PRE',\n",
       " 'DIABETES_GEST',\n",
       " 'HYP_TENS_PRE',\n",
       " 'HYP_TENS_GEST',\n",
       " 'PREV_BIRTH_PRETERM']"
      ]
     },
     "execution_count": 16,
     "metadata": {},
     "output_type": "execute_result"
    }
   ],
   "source": [
    "categorical_cols"
   ]
  },
  {
   "cell_type": "code",
   "execution_count": 17,
   "metadata": {},
   "outputs": [
    {
     "name": "stdout",
     "output_type": "stream",
     "text": [
      "+----------------------+-----+\n",
      "|INFANT_ALIVE_AT_REPORT|count|\n",
      "+----------------------+-----+\n",
      "|                     1|23349|\n",
      "|                  null|45429|\n",
      "|                     0|22080|\n",
      "+----------------------+-----+\n",
      "\n",
      "+-----------+-----+\n",
      "|BIRTH_PLACE|count|\n",
      "+-----------+-----+\n",
      "|          4|  327|\n",
      "|          7|   91|\n",
      "|          6|   11|\n",
      "|          3|  224|\n",
      "|       null|45429|\n",
      "|          9|    8|\n",
      "|          1|44558|\n",
      "|          5|   74|\n",
      "|          2|  136|\n",
      "+-----------+-----+\n",
      "\n",
      "+------------+-----+\n",
      "|DIABETES_PRE|count|\n",
      "+------------+-----+\n",
      "|           1|  548|\n",
      "|        null|45429|\n",
      "|           0|44881|\n",
      "+------------+-----+\n",
      "\n",
      "+-------------+-----+\n",
      "|DIABETES_GEST|count|\n",
      "+-------------+-----+\n",
      "|            1| 1978|\n",
      "|         null|45429|\n",
      "|            0|43451|\n",
      "+-------------+-----+\n",
      "\n",
      "+------------+-----+\n",
      "|HYP_TENS_PRE|count|\n",
      "+------------+-----+\n",
      "|           1| 1081|\n",
      "|        null|45429|\n",
      "|           0|44348|\n",
      "+------------+-----+\n",
      "\n",
      "+-------------+-----+\n",
      "|HYP_TENS_GEST|count|\n",
      "+-------------+-----+\n",
      "|            1| 2127|\n",
      "|         null|45429|\n",
      "|            0|43302|\n",
      "+-------------+-----+\n",
      "\n",
      "+------------------+-----+\n",
      "|PREV_BIRTH_PRETERM|count|\n",
      "+------------------+-----+\n",
      "|                 1| 2341|\n",
      "|              null|45429|\n",
      "|                 0|43088|\n",
      "+------------------+-----+\n",
      "\n"
     ]
    }
   ],
   "source": [
    "for col in categorical_cols:\n",
    "    births_trimmed.cube(col).count().show()"
   ]
  },
  {
   "cell_type": "markdown",
   "metadata": {},
   "source": [
    "## Correlations"
   ]
  },
  {
   "cell_type": "markdown",
   "metadata": {},
   "source": [
    "Correlations help to identify collinear numeric features and handle them\n",
    "appropriately. "
   ]
  },
  {
   "cell_type": "code",
   "execution_count": 18,
   "metadata": {},
   "outputs": [],
   "source": [
    "from pyspark.mllib.stat import Statistics\n",
    "import pandas as pd"
   ]
  },
  {
   "cell_type": "code",
   "execution_count": 19,
   "metadata": {},
   "outputs": [],
   "source": [
    "columns = numeric_cols\n",
    "features = births_trimmed.select(*numeric_cols).rdd.map(lambda row: row[0:])\n",
    "corr_mat=Statistics.corr(features, method=\"pearson\")\n",
    "corr_df = pd.DataFrame(corr_mat)\n",
    "corr_df.index, corr_df.columns = columns, columns"
   ]
  },
  {
   "cell_type": "code",
   "execution_count": 20,
   "metadata": {
    "scrolled": false
   },
   "outputs": [
    {
     "data": {
      "text/html": [
       "<div>\n",
       "<style scoped>\n",
       "    .dataframe tbody tr th:only-of-type {\n",
       "        vertical-align: middle;\n",
       "    }\n",
       "\n",
       "    .dataframe tbody tr th {\n",
       "        vertical-align: top;\n",
       "    }\n",
       "\n",
       "    .dataframe thead th {\n",
       "        text-align: right;\n",
       "    }\n",
       "</style>\n",
       "<table border=\"1\" class=\"dataframe\">\n",
       "  <thead>\n",
       "    <tr style=\"text-align: right;\">\n",
       "      <th></th>\n",
       "      <th>MOTHER_AGE_YEARS</th>\n",
       "      <th>FATHER_COMBINED_AGE</th>\n",
       "      <th>CIG_BEFORE</th>\n",
       "      <th>CIG_1_TRI</th>\n",
       "      <th>CIG_2_TRI</th>\n",
       "      <th>CIG_3_TRI</th>\n",
       "      <th>MOTHER_HEIGHT_IN</th>\n",
       "      <th>MOTHER_PRE_WEIGHT</th>\n",
       "      <th>MOTHER_DELIVERY_WEIGHT</th>\n",
       "      <th>MOTHER_WEIGHT_GAIN</th>\n",
       "    </tr>\n",
       "  </thead>\n",
       "  <tbody>\n",
       "    <tr>\n",
       "      <th>MOTHER_AGE_YEARS</th>\n",
       "      <td>1.000000</td>\n",
       "      <td>-0.035203</td>\n",
       "      <td>-0.064101</td>\n",
       "      <td>-0.045254</td>\n",
       "      <td>-0.033569</td>\n",
       "      <td>-0.027320</td>\n",
       "      <td>0.041911</td>\n",
       "      <td>0.028520</td>\n",
       "      <td>0.022333</td>\n",
       "      <td>0.014624</td>\n",
       "    </tr>\n",
       "    <tr>\n",
       "      <th>FATHER_COMBINED_AGE</th>\n",
       "      <td>-0.035203</td>\n",
       "      <td>1.000000</td>\n",
       "      <td>0.087993</td>\n",
       "      <td>0.094362</td>\n",
       "      <td>0.091438</td>\n",
       "      <td>0.076141</td>\n",
       "      <td>0.086203</td>\n",
       "      <td>0.127900</td>\n",
       "      <td>0.097506</td>\n",
       "      <td>0.035482</td>\n",
       "    </tr>\n",
       "    <tr>\n",
       "      <th>CIG_BEFORE</th>\n",
       "      <td>-0.064101</td>\n",
       "      <td>0.087993</td>\n",
       "      <td>1.000000</td>\n",
       "      <td>0.825531</td>\n",
       "      <td>0.722135</td>\n",
       "      <td>0.623034</td>\n",
       "      <td>-0.010871</td>\n",
       "      <td>-0.026424</td>\n",
       "      <td>-0.004672</td>\n",
       "      <td>-0.011881</td>\n",
       "    </tr>\n",
       "    <tr>\n",
       "      <th>CIG_1_TRI</th>\n",
       "      <td>-0.045254</td>\n",
       "      <td>0.094362</td>\n",
       "      <td>0.825531</td>\n",
       "      <td>1.000000</td>\n",
       "      <td>0.865457</td>\n",
       "      <td>0.759920</td>\n",
       "      <td>-0.006381</td>\n",
       "      <td>-0.012328</td>\n",
       "      <td>-0.001128</td>\n",
       "      <td>-0.014818</td>\n",
       "    </tr>\n",
       "    <tr>\n",
       "      <th>CIG_2_TRI</th>\n",
       "      <td>-0.033569</td>\n",
       "      <td>0.091438</td>\n",
       "      <td>0.722135</td>\n",
       "      <td>0.865457</td>\n",
       "      <td>1.000000</td>\n",
       "      <td>0.893076</td>\n",
       "      <td>-0.002765</td>\n",
       "      <td>-0.006062</td>\n",
       "      <td>0.001460</td>\n",
       "      <td>-0.014359</td>\n",
       "    </tr>\n",
       "    <tr>\n",
       "      <th>CIG_3_TRI</th>\n",
       "      <td>-0.027320</td>\n",
       "      <td>0.076141</td>\n",
       "      <td>0.623034</td>\n",
       "      <td>0.759920</td>\n",
       "      <td>0.893076</td>\n",
       "      <td>1.000000</td>\n",
       "      <td>-0.000938</td>\n",
       "      <td>-0.003776</td>\n",
       "      <td>0.004836</td>\n",
       "      <td>-0.006379</td>\n",
       "    </tr>\n",
       "    <tr>\n",
       "      <th>MOTHER_HEIGHT_IN</th>\n",
       "      <td>0.041911</td>\n",
       "      <td>0.086203</td>\n",
       "      <td>-0.010871</td>\n",
       "      <td>-0.006381</td>\n",
       "      <td>-0.002765</td>\n",
       "      <td>-0.000938</td>\n",
       "      <td>1.000000</td>\n",
       "      <td>0.452570</td>\n",
       "      <td>0.474217</td>\n",
       "      <td>0.331764</td>\n",
       "    </tr>\n",
       "    <tr>\n",
       "      <th>MOTHER_PRE_WEIGHT</th>\n",
       "      <td>0.028520</td>\n",
       "      <td>0.127900</td>\n",
       "      <td>-0.026424</td>\n",
       "      <td>-0.012328</td>\n",
       "      <td>-0.006062</td>\n",
       "      <td>-0.003776</td>\n",
       "      <td>0.452570</td>\n",
       "      <td>1.000000</td>\n",
       "      <td>0.535970</td>\n",
       "      <td>0.649941</td>\n",
       "    </tr>\n",
       "    <tr>\n",
       "      <th>MOTHER_DELIVERY_WEIGHT</th>\n",
       "      <td>0.022333</td>\n",
       "      <td>0.097506</td>\n",
       "      <td>-0.004672</td>\n",
       "      <td>-0.001128</td>\n",
       "      <td>0.001460</td>\n",
       "      <td>0.004836</td>\n",
       "      <td>0.474217</td>\n",
       "      <td>0.535970</td>\n",
       "      <td>1.000000</td>\n",
       "      <td>0.596929</td>\n",
       "    </tr>\n",
       "    <tr>\n",
       "      <th>MOTHER_WEIGHT_GAIN</th>\n",
       "      <td>0.014624</td>\n",
       "      <td>0.035482</td>\n",
       "      <td>-0.011881</td>\n",
       "      <td>-0.014818</td>\n",
       "      <td>-0.014359</td>\n",
       "      <td>-0.006379</td>\n",
       "      <td>0.331764</td>\n",
       "      <td>0.649941</td>\n",
       "      <td>0.596929</td>\n",
       "      <td>1.000000</td>\n",
       "    </tr>\n",
       "  </tbody>\n",
       "</table>\n",
       "</div>"
      ],
      "text/plain": [
       "                        MOTHER_AGE_YEARS  FATHER_COMBINED_AGE  CIG_BEFORE  \\\n",
       "MOTHER_AGE_YEARS                1.000000            -0.035203   -0.064101   \n",
       "FATHER_COMBINED_AGE            -0.035203             1.000000    0.087993   \n",
       "CIG_BEFORE                     -0.064101             0.087993    1.000000   \n",
       "CIG_1_TRI                      -0.045254             0.094362    0.825531   \n",
       "CIG_2_TRI                      -0.033569             0.091438    0.722135   \n",
       "CIG_3_TRI                      -0.027320             0.076141    0.623034   \n",
       "MOTHER_HEIGHT_IN                0.041911             0.086203   -0.010871   \n",
       "MOTHER_PRE_WEIGHT               0.028520             0.127900   -0.026424   \n",
       "MOTHER_DELIVERY_WEIGHT          0.022333             0.097506   -0.004672   \n",
       "MOTHER_WEIGHT_GAIN              0.014624             0.035482   -0.011881   \n",
       "\n",
       "                        CIG_1_TRI  CIG_2_TRI  CIG_3_TRI  MOTHER_HEIGHT_IN  \\\n",
       "MOTHER_AGE_YEARS        -0.045254  -0.033569  -0.027320          0.041911   \n",
       "FATHER_COMBINED_AGE      0.094362   0.091438   0.076141          0.086203   \n",
       "CIG_BEFORE               0.825531   0.722135   0.623034         -0.010871   \n",
       "CIG_1_TRI                1.000000   0.865457   0.759920         -0.006381   \n",
       "CIG_2_TRI                0.865457   1.000000   0.893076         -0.002765   \n",
       "CIG_3_TRI                0.759920   0.893076   1.000000         -0.000938   \n",
       "MOTHER_HEIGHT_IN        -0.006381  -0.002765  -0.000938          1.000000   \n",
       "MOTHER_PRE_WEIGHT       -0.012328  -0.006062  -0.003776          0.452570   \n",
       "MOTHER_DELIVERY_WEIGHT  -0.001128   0.001460   0.004836          0.474217   \n",
       "MOTHER_WEIGHT_GAIN      -0.014818  -0.014359  -0.006379          0.331764   \n",
       "\n",
       "                        MOTHER_PRE_WEIGHT  MOTHER_DELIVERY_WEIGHT  \\\n",
       "MOTHER_AGE_YEARS                 0.028520                0.022333   \n",
       "FATHER_COMBINED_AGE              0.127900                0.097506   \n",
       "CIG_BEFORE                      -0.026424               -0.004672   \n",
       "CIG_1_TRI                       -0.012328               -0.001128   \n",
       "CIG_2_TRI                       -0.006062                0.001460   \n",
       "CIG_3_TRI                       -0.003776                0.004836   \n",
       "MOTHER_HEIGHT_IN                 0.452570                0.474217   \n",
       "MOTHER_PRE_WEIGHT                1.000000                0.535970   \n",
       "MOTHER_DELIVERY_WEIGHT           0.535970                1.000000   \n",
       "MOTHER_WEIGHT_GAIN               0.649941                0.596929   \n",
       "\n",
       "                        MOTHER_WEIGHT_GAIN  \n",
       "MOTHER_AGE_YEARS                  0.014624  \n",
       "FATHER_COMBINED_AGE               0.035482  \n",
       "CIG_BEFORE                       -0.011881  \n",
       "CIG_1_TRI                        -0.014818  \n",
       "CIG_2_TRI                        -0.014359  \n",
       "CIG_3_TRI                        -0.006379  \n",
       "MOTHER_HEIGHT_IN                  0.331764  \n",
       "MOTHER_PRE_WEIGHT                 0.649941  \n",
       "MOTHER_DELIVERY_WEIGHT            0.596929  \n",
       "MOTHER_WEIGHT_GAIN                1.000000  "
      ]
     },
     "execution_count": 20,
     "metadata": {},
     "output_type": "execute_result"
    }
   ],
   "source": [
    "corr_df"
   ]
  },
  {
   "cell_type": "markdown",
   "metadata": {},
   "source": [
    "As you can see, the 'CIG_...' features are highly correlated, so we can drop most of\n",
    "them. Since we want to predict the survival chances of an infant as soon as possible,\n",
    "we will keep only the 'CIG_1_TRI'. Also, as expected, the weight features are also\n",
    "highly correlated and we will only keep the 'MOTHER_PRE_WEIGHT':"
   ]
  },
  {
   "cell_type": "code",
   "execution_count": 21,
   "metadata": {},
   "outputs": [],
   "source": [
    "features_to_keep = [\n",
    " 'INFANT_ALIVE_AT_REPORT',\n",
    " 'BIRTH_PLACE',\n",
    " 'MOTHER_AGE_YEARS',\n",
    " 'FATHER_COMBINED_AGE',\n",
    " 'CIG_1_TRI',\n",
    " 'MOTHER_HEIGHT_IN',\n",
    " 'MOTHER_PRE_WEIGHT',\n",
    " 'DIABETES_PRE',\n",
    " 'DIABETES_GEST',\n",
    " 'HYP_TENS_PRE',\n",
    " 'HYP_TENS_GEST',\n",
    " 'PREV_BIRTH_PRETERM'\n",
    "]"
   ]
  },
  {
   "cell_type": "code",
   "execution_count": 22,
   "metadata": {},
   "outputs": [],
   "source": [
    "births_transformed = births_trimmed.select(*features_to_keep)"
   ]
  },
  {
   "cell_type": "markdown",
   "metadata": {},
   "source": [
    "Check if all variables are ready:"
   ]
  },
  {
   "cell_type": "code",
   "execution_count": 24,
   "metadata": {},
   "outputs": [
    {
     "name": "stdout",
     "output_type": "stream",
     "text": [
      "root\n",
      " |-- INFANT_ALIVE_AT_REPORT: integer (nullable = false)\n",
      " |-- BIRTH_PLACE: string (nullable = true)\n",
      " |-- MOTHER_AGE_YEARS: integer (nullable = true)\n",
      " |-- FATHER_COMBINED_AGE: integer (nullable = true)\n",
      " |-- CIG_1_TRI: integer (nullable = true)\n",
      " |-- MOTHER_HEIGHT_IN: integer (nullable = true)\n",
      " |-- MOTHER_PRE_WEIGHT: integer (nullable = true)\n",
      " |-- DIABETES_PRE: integer (nullable = false)\n",
      " |-- DIABETES_GEST: integer (nullable = false)\n",
      " |-- HYP_TENS_PRE: integer (nullable = false)\n",
      " |-- HYP_TENS_GEST: integer (nullable = false)\n",
      " |-- PREV_BIRTH_PRETERM: integer (nullable = false)\n",
      "\n"
     ]
    }
   ],
   "source": [
    "births_transformed.printSchema()"
   ]
  },
  {
   "cell_type": "markdown",
   "metadata": {},
   "source": [
    "## Creating the final dataset"
   ]
  },
  {
   "cell_type": "markdown",
   "metadata": {},
   "source": [
    "BIRTH_PLACE is still a string. Since it is not an ordinal variable, we have to create dummy variables referring to its values."
   ]
  },
  {
   "cell_type": "code",
   "execution_count": 26,
   "metadata": {},
   "outputs": [],
   "source": [
    "births_transformed = births_transformed.withColumn(\"BIRTH_PLACE\", births_transformed[\"BIRTH_PLACE\"].cast(typ.IntegerType()))"
   ]
  },
  {
   "cell_type": "code",
   "execution_count": 32,
   "metadata": {},
   "outputs": [],
   "source": [
    "categories_birth = births_transformed.select(\"BIRTH_PLACE\").distinct().rdd.flatMap(lambda x: x).collect()\n",
    "exprs = [fn.when(fn.col(\"BIRTH_PLACE\") == category, 1).otherwise(0).alias('BIRTH_PLACE_' + str(category))\\\n",
    "         for category in categories_birth]"
   ]
  },
  {
   "cell_type": "markdown",
   "metadata": {},
   "source": [
    "We exclude one of the dummy variables to avoid the <i>Dummy variable trap</i>."
   ]
  },
  {
   "cell_type": "code",
   "execution_count": 45,
   "metadata": {},
   "outputs": [],
   "source": [
    "births_transformed = births_transformed.select('*', *exprs[1:])"
   ]
  },
  {
   "cell_type": "markdown",
   "metadata": {},
   "source": [
    "Finally, we exclude the BIRTH_PLACE variable:"
   ]
  },
  {
   "cell_type": "code",
   "execution_count": 50,
   "metadata": {},
   "outputs": [],
   "source": [
    "births_final = births_transformed.select(*[col for col in births_transformed.columns\\\n",
    "                            if col != 'BIRTH_PLACE'])"
   ]
  },
  {
   "cell_type": "markdown",
   "metadata": {},
   "source": [
    "Create a CSV file with all data to use later:"
   ]
  },
  {
   "cell_type": "code",
   "execution_count": 58,
   "metadata": {},
   "outputs": [],
   "source": [
    "births_final.write.csv('./data/births_final.csv', header = True)"
   ]
  }
 ],
 "metadata": {
  "kernelspec": {
   "display_name": "Python 3",
   "language": "python",
   "name": "python3"
  },
  "language_info": {
   "codemirror_mode": {
    "name": "ipython",
    "version": 3
   },
   "file_extension": ".py",
   "mimetype": "text/x-python",
   "name": "python",
   "nbconvert_exporter": "python",
   "pygments_lexer": "ipython3",
   "version": "3.6.7"
  }
 },
 "nbformat": 4,
 "nbformat_minor": 2
}
